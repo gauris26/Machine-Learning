{
  "metadata": {
    "kernelspec": {
      "language": "python",
      "display_name": "Python 3",
      "name": "python3"
    },
    "language_info": {
      "name": "python",
      "version": "3.10.13",
      "mimetype": "text/x-python",
      "codemirror_mode": {
        "name": "ipython",
        "version": 3
      },
      "pygments_lexer": "ipython3",
      "nbconvert_exporter": "python",
      "file_extension": ".py"
    },
    "kaggle": {
      "accelerator": "none",
      "dataSources": [
        {
          "sourceId": 5968827,
          "sourceType": "datasetVersion",
          "datasetId": 3422393
        }
      ],
      "dockerImageVersionId": 30698,
      "isInternetEnabled": false,
      "language": "python",
      "sourceType": "notebook",
      "isGpuEnabled": false
    },
    "colab": {
      "provenance": [],
      "include_colab_link": true
    }
  },
  "nbformat_minor": 0,
  "nbformat": 4,
  "cells": [
    {
      "cell_type": "markdown",
      "metadata": {
        "id": "view-in-github",
        "colab_type": "text"
      },
      "source": [
        "<a href=\"https://colab.research.google.com/github/gauris26/Machine-Learning/blob/main/mcdonald_clustering_by_geo.ipynb\" target=\"_parent\"><img src=\"https://colab.research.google.com/assets/colab-badge.svg\" alt=\"Open In Colab\"/></a>"
      ]
    },
    {
      "cell_type": "code",
      "source": [
        "import pandas as pd\n",
        "import numpy as np\n",
        "import matplotlib.pyplot as plt\n",
        "from sklearn.preprocessing import StandardScaler\n",
        "from sklearn.metrics import silhouette_score\n",
        "from sklearn.decomposition import PCA\n",
        "from scipy.stats import pearsonr\n",
        "from sklearn.preprocessing import MinMaxScaler\n",
        "from sklearn.cluster import KMeans"
      ],
      "metadata": {
        "execution": {
          "iopub.status.busy": "2024-05-09T01:45:04.311645Z",
          "iopub.execute_input": "2024-05-09T01:45:04.312168Z",
          "iopub.status.idle": "2024-05-09T01:45:04.319625Z",
          "shell.execute_reply.started": "2024-05-09T01:45:04.312133Z",
          "shell.execute_reply": "2024-05-09T01:45:04.318503Z"
        },
        "trusted": true,
        "id": "Ly8Z4V1wFzM2"
      },
      "execution_count": null,
      "outputs": []
    },
    {
      "cell_type": "code",
      "source": [
        "mcdonalds = pd.read_csv('/kaggle/input/mcdonalds-store-reviews/McDonald_s_Reviews.csv',encoding='iso-8859-1')"
      ],
      "metadata": {
        "execution": {
          "iopub.status.busy": "2024-05-09T01:41:35.180582Z",
          "iopub.execute_input": "2024-05-09T01:41:35.181064Z",
          "iopub.status.idle": "2024-05-09T01:41:35.378081Z",
          "shell.execute_reply.started": "2024-05-09T01:41:35.181029Z",
          "shell.execute_reply": "2024-05-09T01:41:35.376676Z"
        },
        "trusted": true,
        "id": "MyV1E91uFzM4"
      },
      "execution_count": null,
      "outputs": []
    },
    {
      "cell_type": "code",
      "source": [
        "mcdonalds.head()"
      ],
      "metadata": {
        "execution": {
          "iopub.status.busy": "2024-05-09T00:49:34.691165Z",
          "iopub.execute_input": "2024-05-09T00:49:34.691751Z",
          "iopub.status.idle": "2024-05-09T00:49:34.712890Z",
          "shell.execute_reply.started": "2024-05-09T00:49:34.691714Z",
          "shell.execute_reply": "2024-05-09T00:49:34.711243Z"
        },
        "trusted": true,
        "id": "pTCe50XJFzM5",
        "outputId": "4035c762-3868-4083-e9cb-5d7aa227c28b"
      },
      "execution_count": null,
      "outputs": [
        {
          "execution_count": 89,
          "output_type": "execute_result",
          "data": {
            "text/plain": "   reviewer_id  store_name              category  \\\n0            1  McDonald's  Fast food restaurant   \n1            2  McDonald's  Fast food restaurant   \n2            3  McDonald's  Fast food restaurant   \n3            4  McDonald's  Fast food restaurant   \n4            5  McDonald's  Fast food restaurant   \n\n                                       store_address  latitude   longitude  \\\n0  13749 US-183 Hwy, Austin, TX 78750, United States  30.460718 -97.792874   \n1  13749 US-183 Hwy, Austin, TX 78750, United States  30.460718 -97.792874   \n2  13749 US-183 Hwy, Austin, TX 78750, United States  30.460718 -97.792874   \n3  13749 US-183 Hwy, Austin, TX 78750, United States  30.460718 -97.792874   \n4  13749 US-183 Hwy, Austin, TX 78750, United States  30.460718 -97.792874   \n\n  rating_count   review_time  \\\n0        1,240  3 months ago   \n1        1,240    5 days ago   \n2        1,240    5 days ago   \n3        1,240   a month ago   \n4        1,240  2 months ago   \n\n                                              review   rating  \n0  Why does it look like someone spit on my food?...   1 star  \n1  It'd McDonalds. It is what it is as far as the...  4 stars  \n2  Made a mobile order got to the speaker and che...   1 star  \n3  My mc. Crispy chicken sandwich was ï¿½ï¿½ï¿½ï¿...  5 stars  \n4  I repeat my order 3 times in the drive thru, a...   1 star  ",
            "text/html": "<div>\n<style scoped>\n    .dataframe tbody tr th:only-of-type {\n        vertical-align: middle;\n    }\n\n    .dataframe tbody tr th {\n        vertical-align: top;\n    }\n\n    .dataframe thead th {\n        text-align: right;\n    }\n</style>\n<table border=\"1\" class=\"dataframe\">\n  <thead>\n    <tr style=\"text-align: right;\">\n      <th></th>\n      <th>reviewer_id</th>\n      <th>store_name</th>\n      <th>category</th>\n      <th>store_address</th>\n      <th>latitude</th>\n      <th>longitude</th>\n      <th>rating_count</th>\n      <th>review_time</th>\n      <th>review</th>\n      <th>rating</th>\n    </tr>\n  </thead>\n  <tbody>\n    <tr>\n      <th>0</th>\n      <td>1</td>\n      <td>McDonald's</td>\n      <td>Fast food restaurant</td>\n      <td>13749 US-183 Hwy, Austin, TX 78750, United States</td>\n      <td>30.460718</td>\n      <td>-97.792874</td>\n      <td>1,240</td>\n      <td>3 months ago</td>\n      <td>Why does it look like someone spit on my food?...</td>\n      <td>1 star</td>\n    </tr>\n    <tr>\n      <th>1</th>\n      <td>2</td>\n      <td>McDonald's</td>\n      <td>Fast food restaurant</td>\n      <td>13749 US-183 Hwy, Austin, TX 78750, United States</td>\n      <td>30.460718</td>\n      <td>-97.792874</td>\n      <td>1,240</td>\n      <td>5 days ago</td>\n      <td>It'd McDonalds. It is what it is as far as the...</td>\n      <td>4 stars</td>\n    </tr>\n    <tr>\n      <th>2</th>\n      <td>3</td>\n      <td>McDonald's</td>\n      <td>Fast food restaurant</td>\n      <td>13749 US-183 Hwy, Austin, TX 78750, United States</td>\n      <td>30.460718</td>\n      <td>-97.792874</td>\n      <td>1,240</td>\n      <td>5 days ago</td>\n      <td>Made a mobile order got to the speaker and che...</td>\n      <td>1 star</td>\n    </tr>\n    <tr>\n      <th>3</th>\n      <td>4</td>\n      <td>McDonald's</td>\n      <td>Fast food restaurant</td>\n      <td>13749 US-183 Hwy, Austin, TX 78750, United States</td>\n      <td>30.460718</td>\n      <td>-97.792874</td>\n      <td>1,240</td>\n      <td>a month ago</td>\n      <td>My mc. Crispy chicken sandwich was ï¿½ï¿½ï¿½ï¿...</td>\n      <td>5 stars</td>\n    </tr>\n    <tr>\n      <th>4</th>\n      <td>5</td>\n      <td>McDonald's</td>\n      <td>Fast food restaurant</td>\n      <td>13749 US-183 Hwy, Austin, TX 78750, United States</td>\n      <td>30.460718</td>\n      <td>-97.792874</td>\n      <td>1,240</td>\n      <td>2 months ago</td>\n      <td>I repeat my order 3 times in the drive thru, a...</td>\n      <td>1 star</td>\n    </tr>\n  </tbody>\n</table>\n</div>"
          },
          "metadata": {}
        }
      ]
    },
    {
      "cell_type": "code",
      "source": [
        "mcdonalds.info()"
      ],
      "metadata": {
        "execution": {
          "iopub.status.busy": "2024-05-09T00:49:37.442275Z",
          "iopub.execute_input": "2024-05-09T00:49:37.442799Z",
          "iopub.status.idle": "2024-05-09T00:49:37.483082Z",
          "shell.execute_reply.started": "2024-05-09T00:49:37.442756Z",
          "shell.execute_reply": "2024-05-09T00:49:37.481944Z"
        },
        "trusted": true,
        "id": "sAlso21ZFzM5",
        "outputId": "8d852f3f-29c4-49c7-cd1e-8ce4b8e7d568"
      },
      "execution_count": null,
      "outputs": [
        {
          "name": "stdout",
          "text": "<class 'pandas.core.frame.DataFrame'>\nRangeIndex: 33396 entries, 0 to 33395\nData columns (total 10 columns):\n #   Column         Non-Null Count  Dtype  \n---  ------         --------------  -----  \n 0   reviewer_id    33396 non-null  int64  \n 1   store_name     33396 non-null  object \n 2   category       33396 non-null  object \n 3   store_address  33396 non-null  object \n 4   latitude       32736 non-null  float64\n 5   longitude      32736 non-null  float64\n 6   rating_count   33396 non-null  object \n 7   review_time    33396 non-null  object \n 8   review         33396 non-null  object \n 9   rating         33396 non-null  object \ndtypes: float64(2), int64(1), object(7)\nmemory usage: 2.5+ MB\n",
          "output_type": "stream"
        }
      ]
    },
    {
      "cell_type": "code",
      "source": [
        "mcdonalds.describe()"
      ],
      "metadata": {
        "id": "T8HLx0vBtN31",
        "outputId": "675f2ff4-0ba3-4789-f17c-851dd14f352f",
        "colab": {
          "base_uri": "https://localhost:8080/",
          "height": 141
        }
      },
      "execution_count": 1,
      "outputs": [
        {
          "output_type": "error",
          "ename": "NameError",
          "evalue": "name 'mcdonalds' is not defined",
          "traceback": [
            "\u001b[0;31m---------------------------------------------------------------------------\u001b[0m",
            "\u001b[0;31mNameError\u001b[0m                                 Traceback (most recent call last)",
            "\u001b[0;32m<ipython-input-1-063b279ce7bd>\u001b[0m in \u001b[0;36m<cell line: 1>\u001b[0;34m()\u001b[0m\n\u001b[0;32m----> 1\u001b[0;31m \u001b[0mmcdonalds\u001b[0m\u001b[0;34m.\u001b[0m\u001b[0mdescribe\u001b[0m\u001b[0;34m(\u001b[0m\u001b[0;34m)\u001b[0m\u001b[0;34m\u001b[0m\u001b[0;34m\u001b[0m\u001b[0m\n\u001b[0m",
            "\u001b[0;31mNameError\u001b[0m: name 'mcdonalds' is not defined"
          ]
        }
      ]
    },
    {
      "cell_type": "code",
      "source": [
        "mcdonalds.columns"
      ],
      "metadata": {
        "execution": {
          "iopub.status.busy": "2024-05-09T00:35:06.657679Z",
          "iopub.execute_input": "2024-05-09T00:35:06.658124Z",
          "iopub.status.idle": "2024-05-09T00:35:06.666415Z",
          "shell.execute_reply.started": "2024-05-09T00:35:06.658091Z",
          "shell.execute_reply": "2024-05-09T00:35:06.665198Z"
        },
        "trusted": true,
        "id": "UBxOuDGfFzM5",
        "outputId": "02d75252-80e4-4194-9a99-49630667253f"
      },
      "execution_count": null,
      "outputs": [
        {
          "execution_count": 20,
          "output_type": "execute_result",
          "data": {
            "text/plain": "Index(['reviewer_id', 'store_name', 'category', 'store_address', 'latitude ',\n       'longitude', 'rating_count', 'review_time', 'review', 'rating'],\n      dtype='object')"
          },
          "metadata": {}
        }
      ]
    },
    {
      "cell_type": "code",
      "source": [
        "mcdonalds['latitude'] = mcdonalds['latitude ']\n",
        "mcdonalds.drop('latitude ', axis=1, inplace=True)\n",
        "mcdonalds.drop(['store_name','reviewer_id','store_address','category','review_time','review'],inplace=True, axis=1)\n",
        "mcdonalds.dropna(inplace=True)\n",
        "mcdonalds.drop_duplicates()\n",
        "mcdonalds['rating'] = mcdonalds['rating'].str.replace(r'\\D', '', regex=True)\n",
        "mcdonalds['rating'] = mcdonalds['rating'].astype(int)\n",
        "mcdonalds['rating_count'] = mcdonalds['rating_count'].str.replace(r'\\D', '', regex=True)\n",
        "mcdonalds['rating_count'] = mcdonalds['rating_count'].astype(int)"
      ],
      "metadata": {
        "execution": {
          "iopub.status.busy": "2024-05-09T01:41:38.402044Z",
          "iopub.execute_input": "2024-05-09T01:41:38.402579Z",
          "iopub.status.idle": "2024-05-09T01:41:38.571833Z",
          "shell.execute_reply.started": "2024-05-09T01:41:38.402538Z",
          "shell.execute_reply": "2024-05-09T01:41:38.570393Z"
        },
        "trusted": true,
        "id": "HlQmfloGFzM5"
      },
      "execution_count": null,
      "outputs": []
    },
    {
      "cell_type": "code",
      "source": [
        "mcdonalds.info()"
      ],
      "metadata": {
        "execution": {
          "iopub.status.busy": "2024-05-09T01:03:18.343633Z",
          "iopub.execute_input": "2024-05-09T01:03:18.344098Z",
          "iopub.status.idle": "2024-05-09T01:03:18.357479Z",
          "shell.execute_reply.started": "2024-05-09T01:03:18.344065Z",
          "shell.execute_reply": "2024-05-09T01:03:18.355453Z"
        },
        "trusted": true,
        "id": "1BJEFEFYFzM6",
        "outputId": "11f128b3-c133-424b-f5ab-49332d7c72a8"
      },
      "execution_count": null,
      "outputs": [
        {
          "name": "stdout",
          "text": "<class 'pandas.core.frame.DataFrame'>\nIndex: 32736 entries, 0 to 33395\nData columns (total 4 columns):\n #   Column        Non-Null Count  Dtype  \n---  ------        --------------  -----  \n 0   longitude     32736 non-null  float64\n 1   rating_count  32736 non-null  int64  \n 2   rating        32736 non-null  int64  \n 3   latitude      32736 non-null  float64\ndtypes: float64(2), int64(2)\nmemory usage: 1.2 MB\n",
          "output_type": "stream"
        }
      ]
    },
    {
      "cell_type": "code",
      "source": [
        "mcdonalds.sample(5)"
      ],
      "metadata": {
        "execution": {
          "iopub.status.busy": "2024-05-09T00:50:00.068920Z",
          "iopub.execute_input": "2024-05-09T00:50:00.069520Z",
          "iopub.status.idle": "2024-05-09T00:50:00.086832Z",
          "shell.execute_reply.started": "2024-05-09T00:50:00.069473Z",
          "shell.execute_reply": "2024-05-09T00:50:00.085137Z"
        },
        "trusted": true,
        "id": "DBhmqc0hFzM6",
        "outputId": "616706ca-0765-49fe-f521-8ac2cca967d7"
      },
      "execution_count": null,
      "outputs": [
        {
          "execution_count": 100,
          "output_type": "execute_result",
          "data": {
            "text/plain": "        longitude  rating_count  rating   latitude\n16138  -97.660629          1406       5  30.329135\n5379  -117.178011           550       5  32.820654\n12619 -118.282955          2722       1  33.931261\n9085  -111.897383          3243       3  40.759057\n15296  -87.777913          1454       5  41.879656",
            "text/html": "<div>\n<style scoped>\n    .dataframe tbody tr th:only-of-type {\n        vertical-align: middle;\n    }\n\n    .dataframe tbody tr th {\n        vertical-align: top;\n    }\n\n    .dataframe thead th {\n        text-align: right;\n    }\n</style>\n<table border=\"1\" class=\"dataframe\">\n  <thead>\n    <tr style=\"text-align: right;\">\n      <th></th>\n      <th>longitude</th>\n      <th>rating_count</th>\n      <th>rating</th>\n      <th>latitude</th>\n    </tr>\n  </thead>\n  <tbody>\n    <tr>\n      <th>16138</th>\n      <td>-97.660629</td>\n      <td>1406</td>\n      <td>5</td>\n      <td>30.329135</td>\n    </tr>\n    <tr>\n      <th>5379</th>\n      <td>-117.178011</td>\n      <td>550</td>\n      <td>5</td>\n      <td>32.820654</td>\n    </tr>\n    <tr>\n      <th>12619</th>\n      <td>-118.282955</td>\n      <td>2722</td>\n      <td>1</td>\n      <td>33.931261</td>\n    </tr>\n    <tr>\n      <th>9085</th>\n      <td>-111.897383</td>\n      <td>3243</td>\n      <td>3</td>\n      <td>40.759057</td>\n    </tr>\n    <tr>\n      <th>15296</th>\n      <td>-87.777913</td>\n      <td>1454</td>\n      <td>5</td>\n      <td>41.879656</td>\n    </tr>\n  </tbody>\n</table>\n</div>"
          },
          "metadata": {}
        }
      ]
    },
    {
      "cell_type": "code",
      "source": [
        "scaler = MinMaxScaler()\n",
        "scaled = scaler.fit_transform(mcdonalds[['rating_count','rating']])\n",
        "mcdonalds['rating_count'] = scaled[:,0]\n",
        "mcdonalds['rating'] = scaled[:,1]"
      ],
      "metadata": {
        "execution": {
          "iopub.status.busy": "2024-05-09T01:41:42.128130Z",
          "iopub.execute_input": "2024-05-09T01:41:42.128606Z",
          "iopub.status.idle": "2024-05-09T01:41:42.141053Z",
          "shell.execute_reply.started": "2024-05-09T01:41:42.128572Z",
          "shell.execute_reply": "2024-05-09T01:41:42.139828Z"
        },
        "trusted": true,
        "id": "qYFAjyr_FzM6"
      },
      "execution_count": null,
      "outputs": []
    },
    {
      "cell_type": "code",
      "source": [
        "mcdonalds['rating'].value_counts()"
      ],
      "metadata": {
        "execution": {
          "iopub.status.busy": "2024-05-09T01:41:44.344949Z",
          "iopub.execute_input": "2024-05-09T01:41:44.346476Z",
          "iopub.status.idle": "2024-05-09T01:41:44.359458Z",
          "shell.execute_reply.started": "2024-05-09T01:41:44.346375Z",
          "shell.execute_reply": "2024-05-09T01:41:44.357424Z"
        },
        "trusted": true,
        "id": "v_a4raa6FzM6",
        "outputId": "f3589608-92f6-4d83-f5e8-d6b680ffc6f0"
      },
      "execution_count": null,
      "outputs": [
        {
          "execution_count": 222,
          "output_type": "execute_result",
          "data": {
            "text/plain": "rating\n1.00    10059\n0.00     9305\n0.75     5646\n0.50     4706\n0.25     3020\nName: count, dtype: int64"
          },
          "metadata": {}
        }
      ]
    },
    {
      "cell_type": "code",
      "source": [
        "mcdonalds['rating_count'].value_counts()"
      ],
      "metadata": {
        "execution": {
          "iopub.status.busy": "2024-05-09T01:41:46.586207Z",
          "iopub.execute_input": "2024-05-09T01:41:46.586750Z",
          "iopub.status.idle": "2024-05-09T01:41:46.598586Z",
          "shell.execute_reply.started": "2024-05-09T01:41:46.586711Z",
          "shell.execute_reply": "2024-05-09T01:41:46.597343Z"
        },
        "trusted": true,
        "id": "Phzv2RCnFzM7",
        "outputId": "24145cb2-1b6d-44df-d544-f552370c0d36"
      },
      "execution_count": null,
      "outputs": [
        {
          "execution_count": 223,
          "output_type": "execute_result",
          "data": {
            "text/plain": "rating_count\n0.131160    1140\n0.099387    1140\n0.092126    1140\n0.072455    1140\n0.123333    1140\n0.268036    1140\n0.069777    1140\n0.066996    1100\n0.108245    1030\n0.039394    1028\n0.037850     998\n0.078892     960\n0.273135     950\n0.034502     943\n0.058860     926\n0.153458     890\n0.187394     870\n0.035738     850\n0.050312     800\n0.066893     800\n0.273083     770\n0.061332     751\n0.078840     750\n0.267933     750\n0.082291     710\n0.051805     680\n0.046140     680\n0.061641     635\n0.053710     610\n0.017097     602\n0.160513     590\n0.239920     570\n0.069726     560\n0.121067     550\n0.014779     550\n0.123281     510\n0.126629     481\n0.999434     460\n0.131057     430\n0.151038     270\n0.160564     230\n0.067048     190\n0.037901     170\n0.000000      60\n1.000000      30\n0.053762      10\n0.107369       3\n0.102374       3\n0.065863       3\n0.253515       3\nName: count, dtype: int64"
          },
          "metadata": {}
        }
      ]
    },
    {
      "cell_type": "code",
      "source": [
        "#mcdonalds = np.array(mcdonalds[['latitude','longitude', 'rating_count', 'rating']])\n",
        "array_mcdonalds = np.array(mcdonalds[['rating_count','rating']])\n",
        "array_mcdonalds"
      ],
      "metadata": {
        "execution": {
          "iopub.status.busy": "2024-05-09T01:42:02.976589Z",
          "iopub.execute_input": "2024-05-09T01:42:02.977065Z",
          "iopub.status.idle": "2024-05-09T01:42:02.989865Z",
          "shell.execute_reply.started": "2024-05-09T01:42:02.977031Z",
          "shell.execute_reply": "2024-05-09T01:42:02.988034Z"
        },
        "trusted": true,
        "id": "zOWAhtMsFzM7",
        "outputId": "213c5e89-036b-4873-8036-6f392b7fa250"
      },
      "execution_count": null,
      "outputs": [
        {
          "execution_count": 224,
          "output_type": "execute_result",
          "data": {
            "text/plain": "array([[0.05031155, 0.        ],\n       [0.05031155, 0.75      ],\n       [0.05031155, 0.        ],\n       ...,\n       [0.1311602 , 0.75      ],\n       [0.1311602 , 1.        ],\n       [0.1311602 , 1.        ]])"
          },
          "metadata": {}
        }
      ]
    },
    {
      "cell_type": "code",
      "source": [
        "X = array_mcdonalds[:,0]\n",
        "y = array_mcdonalds[:,1]\n",
        "\n",
        "plt.scatter(X, y)\n",
        "plt.axis('equal')\n",
        "plt.show()\n",
        "\n",
        "# Calculate the Pearson correlation\n",
        "correlation, pvalue = pearsonr(X, y)\n",
        "\n",
        "# Display the correlation\n",
        "print(\"Relacion de :\",correlation)"
      ],
      "metadata": {
        "execution": {
          "iopub.status.busy": "2024-05-09T01:35:20.094597Z",
          "iopub.execute_input": "2024-05-09T01:35:20.095109Z",
          "iopub.status.idle": "2024-05-09T01:35:20.441664Z",
          "shell.execute_reply.started": "2024-05-09T01:35:20.095071Z",
          "shell.execute_reply": "2024-05-09T01:35:20.440067Z"
        },
        "trusted": true,
        "id": "5lNVwvXTFzM7",
        "outputId": "034d66d4-666c-4eec-8bcf-631ed0590bc2"
      },
      "execution_count": null,
      "outputs": [
        {
          "output_type": "display_data",
          "data": {
            "text/plain": "<Figure size 640x480 with 1 Axes>",
            "image/png": "[encoded data removed]"
          },
          "metadata": {}
        },
        {
          "name": "stdout",
          "text": "Relacion de : -0.051112891663297556\n",
          "output_type": "stream"
        }
      ]
    },
    {
      "cell_type": "code",
      "source": [
        "plt.scatter(array_mcdonalds[:,0], array_mcdonalds[:,1])\n",
        "\n",
        "model = PCA()\n",
        "\n",
        "pca_features = model.fit_transform(array_mcdonalds)\n",
        "\n",
        "xs = pca_features[:,0]\n",
        "ys = pca_features[:,1]\n",
        "\n",
        "# Scatter plot xs vs ys\n",
        "plt.scatter(xs, ys)\n",
        "plt.axis('equal')\n",
        "plt.show()\n",
        "\n",
        "# Calculate the Pearson correlation of xs and ys\n",
        "correlation, pvalue = pearsonr(xs, ys)\n",
        "\n",
        "# Display the correlation\n",
        "print(\"Display the correlation: \",correlation)"
      ],
      "metadata": {
        "execution": {
          "iopub.status.busy": "2024-05-09T01:42:16.376234Z",
          "iopub.execute_input": "2024-05-09T01:42:16.376694Z",
          "iopub.status.idle": "2024-05-09T01:42:16.804930Z",
          "shell.execute_reply.started": "2024-05-09T01:42:16.376660Z",
          "shell.execute_reply": "2024-05-09T01:42:16.802298Z"
        },
        "trusted": true,
        "id": "BFZToZ90FzM7",
        "outputId": "0d4928fa-4acd-434b-f5de-a66fd9b4aa00"
      },
      "execution_count": null,
      "outputs": [
        {
          "output_type": "display_data",
          "data": {
            "text/plain": "<Figure size 640x480 with 1 Axes>",
            "image/png": "[encoded data removed]"
          },
          "metadata": {}
        },
        {
          "name": "stdout",
          "text": "Display the correlation:  6.158268339717665e-17\n",
          "output_type": "stream"
        }
      ]
    },
    {
      "cell_type": "code",
      "source": [
        "silhouette_scores_list = []\n",
        "for i in range(2, 11):\n",
        "  kmeans = KMeans(n_clusters = i,n_init=10, max_iter=300)\n",
        "  kmeans.fit(pca_features)\n",
        "  silhouette_scores_list.append(silhouette_score(pca_features, kmeans.labels_))\n",
        "plt.plot(range(2, 11), silhouette_scores_list, marker = '.')\n",
        "plt.xlabel('Number of Clusters')\n",
        "plt.ylabel('Silhouette Score');"
      ],
      "metadata": {
        "execution": {
          "iopub.status.busy": "2024-05-09T01:46:51.148106Z",
          "iopub.execute_input": "2024-05-09T01:46:51.148629Z",
          "iopub.status.idle": "2024-05-09T01:48:57.693138Z",
          "shell.execute_reply.started": "2024-05-09T01:46:51.148590Z",
          "shell.execute_reply": "2024-05-09T01:48:57.691338Z"
        },
        "trusted": true,
        "id": "e7FMJIMPFzM8",
        "outputId": "2fec01e7-1207-415d-be37-90eb178f858d"
      },
      "execution_count": null,
      "outputs": [
        {
          "output_type": "display_data",
          "data": {
            "text/plain": "<Figure size 640x480 with 1 Axes>",
            "image/png": "[encoded data removed]"
          },
          "metadata": {}
        }
      ]
    },
    {
      "cell_type": "code",
      "source": [
        "wcss = []\n",
        "for i in range(1, 11):  # Probamos de 1 a 10 clusters\n",
        "    kmeans = KMeans(n_clusters=i, random_state=42,n_init=10, max_iter=3000)\n",
        "    kmeans.fit(pca_features)\n",
        "    wcss.append(kmeans.inertia_)  # Inertia es el WCSS\n",
        "\n",
        "# Graficar los resultados\n",
        "plt.plot(range(1, 11), wcss, marker='o')\n",
        "plt.title('Elbow Method')\n",
        "plt.xlabel('Number of clusters')\n",
        "plt.ylabel('WCSS')\n",
        "plt.grid(True)\n",
        "plt.show()"
      ],
      "metadata": {
        "execution": {
          "iopub.status.busy": "2024-05-09T01:42:23.026612Z",
          "iopub.execute_input": "2024-05-09T01:42:23.027092Z",
          "iopub.status.idle": "2024-05-09T01:42:34.295733Z",
          "shell.execute_reply.started": "2024-05-09T01:42:23.027058Z",
          "shell.execute_reply": "2024-05-09T01:42:34.294458Z"
        },
        "trusted": true,
        "id": "NJmxkaEwFzM8",
        "outputId": "a2c89f52-de57-47fc-988b-2b4378f6a00e"
      },
      "execution_count": null,
      "outputs": [
        {
          "output_type": "display_data",
          "data": {
            "text/plain": "<Figure size 640x480 with 1 Axes>",
            "image/png": "[encoded data removed]"
          },
          "metadata": {}
        }
      ]
    },
    {
      "cell_type": "code",
      "source": [
        "kmeans = KMeans(n_clusters=8, random_state=42,n_init=10, max_iter=3000)\n",
        "kmeans.fit_predict(pca_features)\n",
        "labels = kmeans.labels_\n",
        "mcdonalds['cluster'] = labels"
      ],
      "metadata": {
        "execution": {
          "iopub.status.busy": "2024-05-09T01:53:29.234074Z",
          "iopub.execute_input": "2024-05-09T01:53:29.234557Z",
          "iopub.status.idle": "2024-05-09T01:53:30.255674Z",
          "shell.execute_reply.started": "2024-05-09T01:53:29.234523Z",
          "shell.execute_reply": "2024-05-09T01:53:30.254019Z"
        },
        "trusted": true,
        "id": "sNIGDKnWFzM8"
      },
      "execution_count": null,
      "outputs": []
    },
    {
      "cell_type": "code",
      "source": [
        "mcdonalds.head()"
      ],
      "metadata": {
        "execution": {
          "iopub.status.busy": "2024-05-09T01:53:32.341228Z",
          "iopub.execute_input": "2024-05-09T01:53:32.344186Z",
          "iopub.status.idle": "2024-05-09T01:53:32.357871Z",
          "shell.execute_reply.started": "2024-05-09T01:53:32.344144Z",
          "shell.execute_reply": "2024-05-09T01:53:32.356740Z"
        },
        "trusted": true,
        "id": "u1u387_HFzM8",
        "outputId": "c8a47829-309c-44a7-e900-51835e0a37f0"
      },
      "execution_count": null,
      "outputs": [
        {
          "execution_count": 240,
          "output_type": "execute_result",
          "data": {
            "text/plain": "   longitude  rating_count  rating   latitude  cluster\n0 -97.792874      0.050312    0.00  30.460718        6\n1 -97.792874      0.050312    0.75  30.460718        3\n2 -97.792874      0.050312    0.00  30.460718        6\n3 -97.792874      0.050312    1.00  30.460718        1\n4 -97.792874      0.050312    0.00  30.460718        6",
            "text/html": "<div>\n<style scoped>\n    .dataframe tbody tr th:only-of-type {\n        vertical-align: middle;\n    }\n\n    .dataframe tbody tr th {\n        vertical-align: top;\n    }\n\n    .dataframe thead th {\n        text-align: right;\n    }\n</style>\n<table border=\"1\" class=\"dataframe\">\n  <thead>\n    <tr style=\"text-align: right;\">\n      <th></th>\n      <th>longitude</th>\n      <th>rating_count</th>\n      <th>rating</th>\n      <th>latitude</th>\n      <th>cluster</th>\n    </tr>\n  </thead>\n  <tbody>\n    <tr>\n      <th>0</th>\n      <td>-97.792874</td>\n      <td>0.050312</td>\n      <td>0.00</td>\n      <td>30.460718</td>\n      <td>6</td>\n    </tr>\n    <tr>\n      <th>1</th>\n      <td>-97.792874</td>\n      <td>0.050312</td>\n      <td>0.75</td>\n      <td>30.460718</td>\n      <td>3</td>\n    </tr>\n    <tr>\n      <th>2</th>\n      <td>-97.792874</td>\n      <td>0.050312</td>\n      <td>0.00</td>\n      <td>30.460718</td>\n      <td>6</td>\n    </tr>\n    <tr>\n      <th>3</th>\n      <td>-97.792874</td>\n      <td>0.050312</td>\n      <td>1.00</td>\n      <td>30.460718</td>\n      <td>1</td>\n    </tr>\n    <tr>\n      <th>4</th>\n      <td>-97.792874</td>\n      <td>0.050312</td>\n      <td>0.00</td>\n      <td>30.460718</td>\n      <td>6</td>\n    </tr>\n  </tbody>\n</table>\n</div>"
          },
          "metadata": {}
        }
      ]
    },
    {
      "cell_type": "code",
      "source": [
        "mcdonalds['cluster'].value_counts()"
      ],
      "metadata": {
        "execution": {
          "iopub.status.busy": "2024-05-09T01:53:34.468766Z",
          "iopub.execute_input": "2024-05-09T01:53:34.469177Z",
          "iopub.status.idle": "2024-05-09T01:53:34.480216Z",
          "shell.execute_reply.started": "2024-05-09T01:53:34.469146Z",
          "shell.execute_reply": "2024-05-09T01:53:34.478479Z"
        },
        "trusted": true,
        "id": "XMkEon5gFzM8",
        "outputId": "0b78452d-7fae-4656-d21b-ceac99514ba4"
      },
      "execution_count": null,
      "outputs": [
        {
          "execution_count": 241,
          "output_type": "execute_result",
          "data": {
            "text/plain": "cluster\n1    9858\n6    7168\n3    5531\n2    4640\n5    2984\n0    2065\n4     316\n7     174\nName: count, dtype: int64"
          },
          "metadata": {}
        }
      ]
    },
    {
      "cell_type": "code",
      "source": [
        "plt.scatter(array_mcdonalds[:,0], array_mcdonalds[:,1])\n",
        "# Create a PCA instance: model\n",
        "model = PCA()\n",
        "\n",
        "# Fit model to points\n",
        "model.fit(array_mcdonalds)\n",
        "\n",
        "# Get the mean of the grain samples: mean\n",
        "mean = model.mean_\n",
        "\n",
        "# Get the first principal component: first_pc\n",
        "first_pc = model.components_[0,:]\n",
        "\n",
        "# Plot first_pc as an arrow, starting at mean\n",
        "plt.arrow(mean[0], mean[1], first_pc[0], first_pc[1], color='red', width=0.01)\n",
        "\n",
        "# Keep axes on same scale\n",
        "plt.axis('equal')\n",
        "plt.show()"
      ],
      "metadata": {
        "execution": {
          "iopub.status.busy": "2024-05-09T01:49:56.454406Z",
          "iopub.execute_input": "2024-05-09T01:49:56.454890Z",
          "iopub.status.idle": "2024-05-09T01:49:56.794597Z",
          "shell.execute_reply.started": "2024-05-09T01:49:56.454855Z",
          "shell.execute_reply": "2024-05-09T01:49:56.793457Z"
        },
        "trusted": true,
        "id": "TGXzfC1-FzM9",
        "outputId": "0b70db49-85ea-42d3-9de7-439d236e3264"
      },
      "execution_count": null,
      "outputs": [
        {
          "output_type": "display_data",
          "data": {
            "text/plain": "<Figure size 640x480 with 1 Axes>",
            "image/png": "[encoded data removed]"
          },
          "metadata": {}
        }
      ]
    },
    {
      "cell_type": "code",
      "source": [
        "from sklearn.cluster import KMeans"
      ],
      "metadata": {
        "id": "v3Nlle1IFzM9"
      },
      "execution_count": null,
      "outputs": []
    }
  ]
}